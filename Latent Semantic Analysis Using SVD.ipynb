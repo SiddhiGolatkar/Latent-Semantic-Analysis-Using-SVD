{
 "cells": [
  {
   "cell_type": "markdown",
   "metadata": {},
   "source": [
    "# <center>Latent Semantic Analysis using SVD</center>\n",
    "\n",
    "___\n",
    "\n",
    "Latent Semantic Analysis is a technique in Natural Language Processing of analyzing relationships between a set of documents and the terms they contain by producing a set of concepts related to the documents and terms.\n",
    "\n",
    "LSA finds this relationship by using a mathematical technique called Singular Vector Decomposition (SVD), which decomposes the document term matrix into three matrices.\n",
    "\n",
    "$$A\\ = U\\sum V^T$$\n",
    "\n",
    "- Matrix A, the left singular vectors define the word-word relationship\n",
    "\n",
    "- Matrix U, the singular values (eigen values) define the word-document relationship *(This extracts the hidden concept dimension.)*\n",
    "\n",
    "- Matrix V, the right singular vectors define the document-document relationship\n",
    "\n",
    "SVD also reduces the dimensions significantly as the new concept space defined by eigen vectors is in sorted order, with first dimension defining the strongest concept dimension.\n",
    "\n",
    "Just like PCA, we need not use the entire matrix and can pick first k values which will define majority of the relationship between terms and documents.\n",
    "\n",
    "This is why its called `Reduced SVD` or `Truncated SVD`\n",
    "\n",
    "Now, let's see how to implement this."
   ]
  },
  {
   "cell_type": "markdown",
   "metadata": {},
   "source": [
    "#### Load the dataset"
   ]
  },
  {
   "cell_type": "code",
   "execution_count": 2,
   "metadata": {},
   "outputs": [],
   "source": [
    "import numpy as np\n",
    "import pandas as pd"
   ]
  },
  {
   "cell_type": "code",
   "execution_count": 3,
   "metadata": {},
   "outputs": [],
   "source": [
    "from sklearn.datasets import fetch_20newsgroups"
   ]
  },
  {
   "cell_type": "code",
   "execution_count": 5,
   "metadata": {},
   "outputs": [],
   "source": [
    "X_train = pd.DataFrame(fetch_20newsgroups(random_state = 1, subset = 'train', \n",
    "                                         remove = ('headers', 'footers', 'quotes')).data, dtype = str)\n",
    "\n",
    "X_test = pd.DataFrame(fetch_20newsgroups(random_state = 1, subset = 'test', \n",
    "                                        remove =('headers', 'footers', 'quotes')).data, dtype = str)\n",
    "        "
   ]
  },
  {
   "cell_type": "markdown",
   "metadata": {},
   "source": [
    "#### Displaying the different topics of train data"
   ]
  },
  {
   "cell_type": "code",
   "execution_count": 6,
   "metadata": {},
   "outputs": [
    {
     "data": {
      "text/plain": [
       "['alt.atheism',\n",
       " 'comp.graphics',\n",
       " 'comp.os.ms-windows.misc',\n",
       " 'comp.sys.ibm.pc.hardware',\n",
       " 'comp.sys.mac.hardware',\n",
       " 'comp.windows.x',\n",
       " 'misc.forsale',\n",
       " 'rec.autos',\n",
       " 'rec.motorcycles',\n",
       " 'rec.sport.baseball',\n",
       " 'rec.sport.hockey',\n",
       " 'sci.crypt',\n",
       " 'sci.electronics',\n",
       " 'sci.med',\n",
       " 'sci.space',\n",
       " 'soc.religion.christian',\n",
       " 'talk.politics.guns',\n",
       " 'talk.politics.mideast',\n",
       " 'talk.politics.misc',\n",
       " 'talk.religion.misc']"
      ]
     },
     "execution_count": 6,
     "metadata": {},
     "output_type": "execute_result"
    }
   ],
   "source": [
    "topics = fetch_20newsgroups(subset = 'train')\n",
    "topics.target_names"
   ]
  },
  {
   "cell_type": "markdown",
   "metadata": {},
   "source": [
    "#### Check the shape"
   ]
  },
  {
   "cell_type": "code",
   "execution_count": 7,
   "metadata": {},
   "outputs": [
    {
     "data": {
      "text/plain": [
       "(11314, 1)"
      ]
     },
     "execution_count": 7,
     "metadata": {},
     "output_type": "execute_result"
    }
   ],
   "source": [
    "X_train.shape"
   ]
  },
  {
   "cell_type": "code",
   "execution_count": 8,
   "metadata": {},
   "outputs": [
    {
     "data": {
      "text/plain": [
       "(7532, 1)"
      ]
     },
     "execution_count": 8,
     "metadata": {},
     "output_type": "execute_result"
    }
   ],
   "source": [
    "X_test.shape"
   ]
  },
  {
   "cell_type": "markdown",
   "metadata": {},
   "source": [
    "#### View the data"
   ]
  },
  {
   "cell_type": "code",
   "execution_count": 9,
   "metadata": {},
   "outputs": [
    {
     "data": {
      "text/html": [
       "<div>\n",
       "<style scoped>\n",
       "    .dataframe tbody tr th:only-of-type {\n",
       "        vertical-align: middle;\n",
       "    }\n",
       "\n",
       "    .dataframe tbody tr th {\n",
       "        vertical-align: top;\n",
       "    }\n",
       "\n",
       "    .dataframe thead th {\n",
       "        text-align: right;\n",
       "    }\n",
       "</style>\n",
       "<table border=\"1\" class=\"dataframe\">\n",
       "  <thead>\n",
       "    <tr style=\"text-align: right;\">\n",
       "      <th></th>\n",
       "      <th>0</th>\n",
       "    </tr>\n",
       "  </thead>\n",
       "  <tbody>\n",
       "    <tr>\n",
       "      <th>0</th>\n",
       "      <td>Well i'm not sure about the story nad it did s...</td>\n",
       "    </tr>\n",
       "    <tr>\n",
       "      <th>1</th>\n",
       "      <td>\\n\\n\\n\\n\\n\\n\\nYeah, do you expect people to re...</td>\n",
       "    </tr>\n",
       "    <tr>\n",
       "      <th>2</th>\n",
       "      <td>Although I realize that principle is not one o...</td>\n",
       "    </tr>\n",
       "    <tr>\n",
       "      <th>3</th>\n",
       "      <td>Notwithstanding all the legitimate fuss about ...</td>\n",
       "    </tr>\n",
       "    <tr>\n",
       "      <th>4</th>\n",
       "      <td>Well, I will have to change the scoring on my ...</td>\n",
       "    </tr>\n",
       "  </tbody>\n",
       "</table>\n",
       "</div>"
      ],
      "text/plain": [
       "                                                   0\n",
       "0  Well i'm not sure about the story nad it did s...\n",
       "1  \\n\\n\\n\\n\\n\\n\\nYeah, do you expect people to re...\n",
       "2  Although I realize that principle is not one o...\n",
       "3  Notwithstanding all the legitimate fuss about ...\n",
       "4  Well, I will have to change the scoring on my ..."
      ]
     },
     "execution_count": 9,
     "metadata": {},
     "output_type": "execute_result"
    }
   ],
   "source": [
    "X_train.head()"
   ]
  },
  {
   "cell_type": "code",
   "execution_count": 10,
   "metadata": {},
   "outputs": [
    {
     "data": {
      "text/html": [
       "<div>\n",
       "<style scoped>\n",
       "    .dataframe tbody tr th:only-of-type {\n",
       "        vertical-align: middle;\n",
       "    }\n",
       "\n",
       "    .dataframe tbody tr th {\n",
       "        vertical-align: top;\n",
       "    }\n",
       "\n",
       "    .dataframe thead th {\n",
       "        text-align: right;\n",
       "    }\n",
       "</style>\n",
       "<table border=\"1\" class=\"dataframe\">\n",
       "  <thead>\n",
       "    <tr style=\"text-align: right;\">\n",
       "      <th></th>\n",
       "      <th>0</th>\n",
       "    </tr>\n",
       "  </thead>\n",
       "  <tbody>\n",
       "    <tr>\n",
       "      <th>0</th>\n",
       "      <td>: In article &lt;34592@oasys.dt.navy.mil&gt; odell@o...</td>\n",
       "    </tr>\n",
       "    <tr>\n",
       "      <th>1</th>\n",
       "      <td>Ithaca technical support can be reached at:\\n\\...</td>\n",
       "    </tr>\n",
       "    <tr>\n",
       "      <th>2</th>\n",
       "      <td>Devorski unfortunately helped to taint an othe...</td>\n",
       "    </tr>\n",
       "    <tr>\n",
       "      <th>3</th>\n",
       "      <td>\\nI would further add that a 486/50,S3/928,8mb...</td>\n",
       "    </tr>\n",
       "    <tr>\n",
       "      <th>4</th>\n",
       "      <td>A rep at the dealer (actually it's a universit...</td>\n",
       "    </tr>\n",
       "  </tbody>\n",
       "</table>\n",
       "</div>"
      ],
      "text/plain": [
       "                                                   0\n",
       "0  : In article <34592@oasys.dt.navy.mil> odell@o...\n",
       "1  Ithaca technical support can be reached at:\\n\\...\n",
       "2  Devorski unfortunately helped to taint an othe...\n",
       "3  \\nI would further add that a 486/50,S3/928,8mb...\n",
       "4  A rep at the dealer (actually it's a universit..."
      ]
     },
     "execution_count": 10,
     "metadata": {},
     "output_type": "execute_result"
    }
   ],
   "source": [
    "X_test.head()"
   ]
  },
  {
   "cell_type": "markdown",
   "metadata": {},
   "source": [
    "#### Calculate Term Frequency - Inverted Document Frequency"
   ]
  },
  {
   "cell_type": "code",
   "execution_count": 11,
   "metadata": {},
   "outputs": [],
   "source": [
    "from sklearn.feature_extraction.text import TfidfVectorizer "
   ]
  },
  {
   "cell_type": "code",
   "execution_count": 12,
   "metadata": {},
   "outputs": [],
   "source": [
    "vectorizer = TfidfVectorizer(max_df = 0.5, stop_words = 'english')"
   ]
  },
  {
   "cell_type": "markdown",
   "metadata": {},
   "source": [
    "#### Build Truncated SVD Model"
   ]
  },
  {
   "cell_type": "code",
   "execution_count": 13,
   "metadata": {},
   "outputs": [],
   "source": [
    "from sklearn.decomposition import TruncatedSVD"
   ]
  },
  {
   "cell_type": "code",
   "execution_count": 14,
   "metadata": {},
   "outputs": [],
   "source": [
    "svd_model = TruncatedSVD(n_components = 500, random_state = 123)"
   ]
  },
  {
   "cell_type": "markdown",
   "metadata": {},
   "source": [
    "#### Create and Execute Pipeline"
   ]
  },
  {
   "cell_type": "markdown",
   "metadata": {},
   "source": [
    "Build a Pipeline Object"
   ]
  },
  {
   "cell_type": "code",
   "execution_count": 15,
   "metadata": {},
   "outputs": [],
   "source": [
    "from sklearn.pipeline import Pipeline"
   ]
  },
  {
   "cell_type": "code",
   "execution_count": 16,
   "metadata": {},
   "outputs": [],
   "source": [
    "modelling_pipe = Pipeline([('tfidf', vectorizer), ('svd', svd_model)])"
   ]
  },
  {
   "cell_type": "markdown",
   "metadata": {},
   "source": [
    "Run the Model"
   ]
  },
  {
   "cell_type": "code",
   "execution_count": 17,
   "metadata": {},
   "outputs": [],
   "source": [
    "fitted_model = modelling_pipe.fit(X_train[0])"
   ]
  },
  {
   "cell_type": "code",
   "execution_count": 18,
   "metadata": {},
   "outputs": [],
   "source": [
    "#vectorizer.vocabulary_"
   ]
  },
  {
   "cell_type": "markdown",
   "metadata": {},
   "source": [
    "Check the size of the vocabulary"
   ]
  },
  {
   "cell_type": "code",
   "execution_count": 19,
   "metadata": {},
   "outputs": [
    {
     "name": "stdout",
     "output_type": "stream",
     "text": [
      "101322\n"
     ]
    }
   ],
   "source": [
    "print(len(vectorizer.vocabulary_))"
   ]
  },
  {
   "cell_type": "markdown",
   "metadata": {},
   "source": [
    "Transform the Train features"
   ]
  },
  {
   "cell_type": "code",
   "execution_count": 20,
   "metadata": {},
   "outputs": [],
   "source": [
    "svd_matrix_train = fitted_model.transform(X_train[0])"
   ]
  },
  {
   "cell_type": "markdown",
   "metadata": {},
   "source": [
    "#### Check the Shape"
   ]
  },
  {
   "cell_type": "code",
   "execution_count": 21,
   "metadata": {},
   "outputs": [
    {
     "name": "stdout",
     "output_type": "stream",
     "text": [
      "(11314, 500)\n"
     ]
    }
   ],
   "source": [
    "print(svd_matrix_train.shape)"
   ]
  },
  {
   "cell_type": "markdown",
   "metadata": {},
   "source": [
    "#### View the object"
   ]
  },
  {
   "cell_type": "code",
   "execution_count": 22,
   "metadata": {},
   "outputs": [
    {
     "name": "stdout",
     "output_type": "stream",
     "text": [
      "[[ 0.08690072 -0.05274135 -0.01616869 ...  0.00091931 -0.02401085\n",
      "  -0.01480978]\n",
      " [ 0.12571505 -0.03759296  0.01870882 ... -0.01097828  0.00234251\n",
      "   0.01323197]\n",
      " [ 0.11543528 -0.05215315 -0.02240148 ...  0.04062794  0.03953857\n",
      "   0.00133556]\n",
      " ...\n",
      " [ 0.06512122 -0.0196766  -0.02061401 ... -0.00982606  0.01427701\n",
      "  -0.00259227]\n",
      " [ 0.03353651  0.022044   -0.00068139 ... -0.00625029  0.01272091\n",
      "  -0.01433058]\n",
      " [ 0.17359084 -0.03098295 -0.04834833 ... -0.00424957  0.01372578\n",
      "  -0.01831141]]\n"
     ]
    }
   ],
   "source": [
    "print(svd_matrix_train)"
   ]
  },
  {
   "cell_type": "code",
   "execution_count": 23,
   "metadata": {},
   "outputs": [
    {
     "name": "stdout",
     "output_type": "stream",
     "text": [
      "<class 'numpy.ndarray'>\n"
     ]
    }
   ],
   "source": [
    "print(type(svd_matrix_train))"
   ]
  },
  {
   "cell_type": "markdown",
   "metadata": {},
   "source": [
    "#### Query the Model"
   ]
  },
  {
   "cell_type": "code",
   "execution_count": 24,
   "metadata": {},
   "outputs": [],
   "source": [
    "# Transform the Test Data\n",
    "\n",
    "query = fitted_model.transform(X_test.iloc[2])"
   ]
  },
  {
   "cell_type": "code",
   "execution_count": 25,
   "metadata": {
    "scrolled": false
   },
   "outputs": [
    {
     "data": {
      "text/plain": [
       "(1, 500)"
      ]
     },
     "execution_count": 25,
     "metadata": {},
     "output_type": "execute_result"
    }
   ],
   "source": [
    "query.shape"
   ]
  },
  {
   "cell_type": "code",
   "execution_count": 26,
   "metadata": {},
   "outputs": [
    {
     "name": "stdout",
     "output_type": "stream",
     "text": [
      "[[ 6.70776812e-02 -2.13308295e-02 -3.66785911e-02  1.34992201e-03\n",
      "  -5.39209249e-02 -2.84246325e-02  2.27992246e-02 -1.87607029e-02\n",
      "  -2.86134069e-02 -1.86607505e-02  1.08551481e-02  7.24856361e-03\n",
      "   1.22344918e-03  1.21645819e-03 -9.96724193e-03 -5.81949860e-03\n",
      "  -2.12239119e-03  5.31987040e-03  7.36037147e-03  1.39896099e-02\n",
      "   4.01497320e-04 -7.05713977e-03 -2.45690666e-03 -1.58566442e-02\n",
      "  -2.84781370e-05  8.98633398e-03 -4.74061157e-03 -7.10921572e-03\n",
      "  -1.91178529e-02 -1.26256846e-03 -1.86566629e-02 -7.02231430e-03\n",
      "  -1.42665202e-02 -4.65910702e-03  6.81622852e-03  1.43985037e-02\n",
      "   1.63449435e-02 -9.52576321e-03 -1.83879307e-03  1.46156483e-02\n",
      "  -7.21651765e-03 -4.31382641e-03 -7.01359438e-03 -1.39657287e-02\n",
      "  -8.78193789e-03 -2.49131682e-02  1.26134975e-02  6.40119941e-03\n",
      "  -5.46763016e-03  1.81765480e-02 -2.70795701e-02 -2.74857424e-02\n",
      "   1.80398445e-02 -1.12120232e-03  5.59174134e-02  2.76732556e-02\n",
      "   7.39665992e-03 -7.48763009e-04  4.79575130e-03  9.34002535e-03\n",
      "  -1.81229202e-02  3.92760759e-02 -9.21661220e-03  8.11489882e-03\n",
      "   2.50298567e-02 -2.09384741e-02  2.44065181e-03 -8.91532215e-03\n",
      "  -1.20342666e-02  1.60621775e-02 -6.86154907e-03 -1.01799163e-03\n",
      "  -1.50453909e-02  2.58099489e-03  6.60076223e-04 -2.23863982e-02\n",
      "   1.52095500e-02  6.33456708e-03 -1.06976943e-03  2.87326360e-02\n",
      "  -1.34598885e-03 -1.76482929e-03  1.05384291e-02 -4.47680920e-04\n",
      "   3.19711801e-02  4.35661339e-02  7.42082742e-03 -1.23049347e-02\n",
      "   6.10997554e-03  1.04690837e-02  1.12448334e-02  9.93796580e-05\n",
      "   1.19351842e-02  1.91817955e-03 -1.09619264e-02  4.97318823e-03\n",
      "  -6.90357287e-03  2.59437235e-03 -5.14162264e-03 -9.01367217e-03\n",
      "   2.06735380e-02  2.68534720e-02  2.35491079e-02  1.20731731e-03\n",
      "   1.27021656e-03 -2.14953257e-03 -8.00430667e-03 -4.62990522e-03\n",
      "   3.11570553e-02  6.60835936e-03  1.34455763e-02 -2.10000598e-02\n",
      "  -5.36332365e-03 -1.23923237e-03 -9.82236360e-03  7.87546932e-03\n",
      "   1.10626896e-02  5.02924079e-03 -1.90672524e-02  3.97538903e-03\n",
      "   1.43105105e-02  4.01787324e-03  1.47837340e-02  1.05952840e-04\n",
      "   2.05575182e-02  6.20183166e-03 -4.76174294e-03 -3.31867150e-02\n",
      "   4.28928198e-04  2.03202032e-02 -1.79342173e-02  1.79815466e-02\n",
      "   1.41706926e-02  7.64174875e-03  6.75247069e-03 -3.98662487e-03\n",
      "   4.11200048e-02  7.31438268e-03 -2.06547706e-02  1.93670699e-02\n",
      "   1.20356700e-02  1.71369824e-03  1.16376742e-02 -9.11418267e-04\n",
      "  -1.39411882e-02  5.67406873e-03  8.48666928e-03  7.72194273e-03\n",
      "   1.94986230e-04  7.14799942e-03 -1.27306768e-02 -4.82015340e-03\n",
      "   1.04568017e-03  3.70271124e-02  1.74293220e-03  1.98952125e-02\n",
      "   2.82934567e-02 -1.54194279e-03 -1.87731637e-02 -1.42349477e-02\n",
      "  -6.66031918e-03  4.55869852e-03  1.60249302e-02  2.37921189e-02\n",
      "   1.37346060e-02 -1.26355817e-02  9.72626633e-04  1.17911651e-02\n",
      "  -2.35162355e-02  3.83794554e-04 -1.97084419e-02  9.22501939e-03\n",
      "  -2.03760343e-02 -9.09241255e-03  5.45542280e-03 -2.73050132e-02\n",
      "  -1.07374604e-02 -3.30218994e-03 -8.04892974e-03  3.83634955e-02\n",
      "  -1.34343090e-02 -9.78465122e-03  1.81193330e-03 -1.42330238e-02\n",
      "   4.20174802e-03  1.18654215e-02 -1.90623459e-02  3.46489866e-02\n",
      "  -9.19831946e-04  8.72330746e-03  1.58111404e-02 -8.36025479e-03\n",
      "  -2.55995408e-02  8.64441191e-03 -1.20899854e-02  1.25640701e-02\n",
      "  -9.72584700e-03  2.50686489e-02  1.70559400e-02 -4.06757662e-03\n",
      "   1.66479106e-02 -5.06484614e-03 -1.48809309e-02 -2.52668645e-03\n",
      "  -1.31507428e-03  1.31955468e-02 -3.13598579e-02  1.07517288e-02\n",
      "  -2.01038505e-03  2.10538666e-02  6.52412266e-03  1.17261557e-02\n",
      "  -2.42020928e-02  4.57870760e-03  3.27788190e-03 -1.89770126e-02\n",
      "   1.25867217e-02 -1.72916165e-04 -1.75834065e-04 -2.85372355e-02\n",
      "   3.61007580e-02  1.00356347e-02  1.09033918e-02  1.47092758e-02\n",
      "  -2.01692151e-02  7.18998163e-03 -1.19388323e-02 -2.26251467e-02\n",
      "   2.88111599e-02  1.59209308e-02  1.56780857e-02 -8.06375034e-03\n",
      "  -2.22852998e-02 -1.12210374e-02  1.39509585e-02  1.32020551e-02\n",
      "   1.46683214e-02 -1.30061714e-03  1.20353436e-03  2.32568571e-04\n",
      "   1.55323139e-02 -3.13740450e-04 -1.08466285e-02  4.98528895e-03\n",
      "  -1.09806815e-02 -1.71761428e-02  1.70925620e-02  8.01485157e-03\n",
      "   5.51254555e-03 -3.89195493e-03 -4.49774772e-03 -1.27727124e-02\n",
      "  -5.59569047e-03 -2.35025927e-02 -3.17767716e-03 -2.94839457e-02\n",
      "  -1.84060994e-03  1.49145017e-02  9.11424645e-03 -5.35104277e-03\n",
      "   9.53967810e-03 -7.48539508e-03 -1.61445023e-02 -6.82210061e-03\n",
      "  -1.20705689e-02 -3.04585231e-02  7.64497202e-03  2.10781894e-03\n",
      "   2.26045933e-03 -2.28695455e-02  2.49926140e-02  2.63882382e-02\n",
      "  -1.95465348e-02 -8.09508937e-03  1.64475338e-03 -1.27858255e-02\n",
      "  -2.97520094e-02  1.80402322e-02 -1.37770972e-02  3.28345001e-04\n",
      "   4.62904536e-02 -6.73343665e-03 -1.87804806e-02  1.28033033e-02\n",
      "   1.19995167e-02 -1.44074922e-02 -2.60443536e-03  1.74350958e-02\n",
      "   1.09208789e-03  4.00109272e-04 -1.43515241e-02 -1.60845060e-03\n",
      "  -1.42028289e-02  5.79884867e-05  1.73965964e-02  1.57958014e-02\n",
      "   2.42178078e-02 -1.14117660e-02 -3.44063406e-03  2.41739645e-03\n",
      "  -1.66256039e-02  2.07233477e-02 -1.15172173e-02  9.24567086e-03\n",
      "   2.11561455e-02  4.09955469e-03 -1.62428843e-02  1.13906300e-02\n",
      "   5.83967823e-03  3.55770036e-02  5.58182793e-03 -2.02309072e-02\n",
      "   9.30361280e-03  3.99496293e-03  7.94103453e-03  5.37795385e-03\n",
      "  -4.61484153e-03  8.75643126e-03 -1.77510976e-02  7.06301087e-03\n",
      "  -1.35944189e-02 -1.32783738e-02 -1.42966396e-02 -8.14966964e-03\n",
      "   5.75168872e-03 -1.15261725e-02  1.06387718e-02 -4.91057908e-03\n",
      "   2.04653157e-03  2.06195856e-03  1.10136930e-03 -1.27935819e-02\n",
      "  -1.32826527e-02 -3.43811042e-03 -1.03918990e-02  5.39024817e-03\n",
      "  -3.15547906e-02  1.43186002e-02 -1.85065391e-02  5.84967372e-03\n",
      "   2.67070052e-03  3.56400844e-02  4.36594814e-02 -6.50142184e-03\n",
      "   5.86550854e-03  1.00864476e-02 -9.49627390e-03  1.07529683e-02\n",
      "  -8.26415524e-03  1.63093788e-02  3.06374925e-03 -1.09074758e-02\n",
      "   1.56132321e-02  6.61701066e-03  2.43274392e-02  6.50317762e-03\n",
      "  -7.11579075e-03 -2.58249018e-03 -2.22302561e-02 -1.19762440e-02\n",
      "  -7.20656599e-03 -4.11860627e-03  1.38251858e-03 -2.32223846e-02\n",
      "   4.99143176e-03 -2.81114001e-02  1.40538209e-03  5.46003986e-03\n",
      "   1.55499452e-02  2.52110861e-03  3.23658074e-02 -1.53834439e-02\n",
      "  -2.18173346e-02  8.98723862e-04  6.82128939e-03 -5.71358479e-04\n",
      "  -4.85569071e-03 -2.34014288e-02 -3.74809183e-03  1.48391706e-02\n",
      "  -1.95763958e-02 -3.23515400e-03 -1.30225766e-02  1.10146114e-03\n",
      "   1.00078677e-03 -3.45456189e-02 -1.54112388e-02 -1.69816761e-02\n",
      "   1.53106462e-02 -1.75487160e-02 -3.97949418e-03 -1.30261074e-02\n",
      "   1.32487379e-02 -1.60191032e-03 -1.19475360e-02 -1.29631360e-02\n",
      "   2.05349653e-02  1.48345529e-03  9.66095221e-03  3.87471576e-03\n",
      "   2.15869260e-02 -1.04340128e-03 -1.87757282e-03  1.15740264e-02\n",
      "   8.63473365e-03 -8.13814407e-03 -5.51253114e-03  8.49433070e-03\n",
      "  -2.76457758e-02 -1.45576611e-02  1.67020721e-03  1.54521948e-02\n",
      "  -1.82959021e-02  1.01374964e-03  3.11661476e-03 -2.27303172e-02\n",
      "  -9.68526875e-03 -1.75862549e-02  3.96713205e-03 -3.40117008e-03\n",
      "  -1.82570248e-02 -5.05880991e-03  1.94316042e-02  1.22878491e-02\n",
      "   8.81621276e-03 -9.46153739e-03 -5.12774018e-03  7.47319603e-03\n",
      "  -8.14799597e-03 -8.65771415e-03  4.36257156e-02 -1.13768428e-02\n",
      "   1.51098604e-02 -1.19994789e-02  9.19755209e-03  8.57444026e-03\n",
      "  -1.35509579e-02 -7.08791615e-03  5.75096094e-04  3.68869022e-02\n",
      "   7.53220895e-03 -7.11356169e-04  1.69108774e-02  1.78602843e-02\n",
      "  -1.57755423e-03  3.47495970e-03  1.77457657e-02 -4.82039499e-03\n",
      "  -1.79448313e-04  2.34560234e-02 -7.38140835e-03  1.34534557e-02\n",
      "   1.86013278e-02 -2.05249322e-02 -9.91988978e-04  6.64572144e-03\n",
      "  -2.89548740e-02  4.21536576e-03 -7.74206410e-05  2.82401951e-02\n",
      "   1.26231256e-02  1.26114688e-02  4.17461552e-03  2.82528810e-03\n",
      "  -9.54155041e-03  1.94377987e-02  1.64232976e-02  1.83185767e-03\n",
      "   1.17283489e-02 -2.65321394e-02 -2.80315509e-03 -2.32756392e-03\n",
      "  -1.64782362e-02 -5.87025146e-03 -1.35261893e-03  3.76760990e-03\n",
      "  -6.37332771e-03 -1.70541555e-02  4.73231147e-03 -2.18884340e-02\n",
      "  -2.93277175e-03 -1.88022956e-02  1.20869375e-02  3.92281932e-03\n",
      "   1.00573421e-02  8.52279592e-03  7.34757376e-03 -1.57896644e-02\n",
      "   1.92128990e-02  2.10904459e-03  6.15612541e-03 -1.65559183e-02\n",
      "  -9.29876886e-03  1.99434843e-02 -7.15066683e-03  2.31960105e-02\n",
      "  -4.45078891e-03 -8.55089229e-04  1.71820967e-02 -1.47111679e-02]]\n"
     ]
    }
   ],
   "source": [
    "print(query)"
   ]
  },
  {
   "cell_type": "markdown",
   "metadata": {},
   "source": [
    "#### Calculate cosine similarity"
   ]
  },
  {
   "cell_type": "code",
   "execution_count": 27,
   "metadata": {},
   "outputs": [],
   "source": [
    "from sklearn.metrics.pairwise import cosine_similarity"
   ]
  },
  {
   "cell_type": "code",
   "execution_count": 28,
   "metadata": {},
   "outputs": [],
   "source": [
    "distance_matrix = cosine_similarity(svd_matrix_train, query)"
   ]
  },
  {
   "cell_type": "code",
   "execution_count": 29,
   "metadata": {},
   "outputs": [
    {
     "name": "stdout",
     "output_type": "stream",
     "text": [
      "[[0.02143847]\n",
      " [0.13943067]\n",
      " [0.02956333]\n",
      " ...\n",
      " [0.05498933]\n",
      " [0.00212685]\n",
      " [0.08855379]]\n"
     ]
    }
   ],
   "source": [
    "print(distance_matrix)"
   ]
  },
  {
   "cell_type": "code",
   "execution_count": 30,
   "metadata": {},
   "outputs": [
    {
     "data": {
      "text/plain": [
       "array([[0.02143847],\n",
       "       [0.13943067],\n",
       "       [0.02956333],\n",
       "       [0.02434709],\n",
       "       [0.06598569]])"
      ]
     },
     "execution_count": 30,
     "metadata": {},
     "output_type": "execute_result"
    }
   ],
   "source": [
    "distance_matrix[:5]"
   ]
  },
  {
   "cell_type": "markdown",
   "metadata": {},
   "source": [
    "#### Sort the Cosine Similarity Matrix "
   ]
  },
  {
   "cell_type": "code",
   "execution_count": 31,
   "metadata": {},
   "outputs": [],
   "source": [
    "flat = distance_matrix.flatten()"
   ]
  },
  {
   "cell_type": "code",
   "execution_count": 32,
   "metadata": {},
   "outputs": [
    {
     "name": "stdout",
     "output_type": "stream",
     "text": [
      "[0.02143847 0.13943067 0.02956333 ... 0.05498933 0.00212685 0.08855379]\n"
     ]
    }
   ],
   "source": [
    "print(flat)"
   ]
  },
  {
   "cell_type": "code",
   "execution_count": 33,
   "metadata": {},
   "outputs": [
    {
     "data": {
      "text/plain": [
       "array([-0.0955352 , -0.08235915, -0.07575124, ...,  0.41020251,\n",
       "        0.42097608,  0.44135968])"
      ]
     },
     "execution_count": 33,
     "metadata": {},
     "output_type": "execute_result"
    }
   ],
   "source": [
    "np.sort(flat)"
   ]
  },
  {
   "cell_type": "code",
   "execution_count": 34,
   "metadata": {},
   "outputs": [],
   "source": [
    "sort_values = np.sort(flat)"
   ]
  },
  {
   "cell_type": "code",
   "execution_count": 35,
   "metadata": {},
   "outputs": [
    {
     "data": {
      "text/plain": [
       "array([0.39750618, 0.40904918, 0.41020251, 0.42097608, 0.44135968])"
      ]
     },
     "execution_count": 35,
     "metadata": {},
     "output_type": "execute_result"
    }
   ],
   "source": [
    "sort_values[-5:]"
   ]
  },
  {
   "cell_type": "code",
   "execution_count": 36,
   "metadata": {},
   "outputs": [
    {
     "data": {
      "text/plain": [
       "array([-0.0955352 , -0.08235915, -0.07575124, -0.07058224, -0.06986834])"
      ]
     },
     "execution_count": 36,
     "metadata": {},
     "output_type": "execute_result"
    }
   ],
   "source": [
    "sort_values[:5]"
   ]
  },
  {
   "cell_type": "code",
   "execution_count": 37,
   "metadata": {},
   "outputs": [
    {
     "data": {
      "text/plain": [
       "array([ 552, 4268, 1113, ..., 4275, 7731, 4931], dtype=int64)"
      ]
     },
     "execution_count": 37,
     "metadata": {},
     "output_type": "execute_result"
    }
   ],
   "source": [
    "np.argsort(flat)"
   ]
  },
  {
   "cell_type": "code",
   "execution_count": 38,
   "metadata": {},
   "outputs": [],
   "source": [
    "sort_indices = np.argsort(flat)"
   ]
  },
  {
   "cell_type": "code",
   "execution_count": 39,
   "metadata": {},
   "outputs": [
    {
     "name": "stdout",
     "output_type": "stream",
     "text": [
      "[ 552 4268 1113 ... 4275 7731 4931]\n"
     ]
    }
   ],
   "source": [
    "print(sort_indices)"
   ]
  },
  {
   "cell_type": "markdown",
   "metadata": {},
   "source": [
    "The last find indices indicate the 5 most similar document to the query document"
   ]
  },
  {
   "cell_type": "code",
   "execution_count": 40,
   "metadata": {},
   "outputs": [
    {
     "name": "stdout",
     "output_type": "stream",
     "text": [
      "[1684 2738 4275 7731 4931]\n"
     ]
    }
   ],
   "source": [
    "print(sort_indices[-5:])"
   ]
  },
  {
   "cell_type": "code",
   "execution_count": 41,
   "metadata": {},
   "outputs": [],
   "source": [
    "# to show longer length in pandas series object output\n",
    "\n",
    "pd.options.display.max_colwidth = 2000"
   ]
  },
  {
   "cell_type": "code",
   "execution_count": 42,
   "metadata": {},
   "outputs": [
    {
     "data": {
      "text/plain": [
       "0    Ten years ago, the number of Europeans in the NHL was roughly a quarter\\nof what it is now. Going into the 1992/93 season, the numbers of Euros on\\nNHL teams have escalated to the following stats:\\n\\nCanadians: 400\\nAmericans: 100\\nEuropeans: 100\\n\\n   Please note that these numbers are rounded off, and taken from the top\\n25 players on each of the 24 teams. My source is the Vancouver Sun.\\n\\n   Here's the point: there are far too many Europeans in the NHL. I am sick\\nof watching a game between an American and a Canadian team (let's say, the\\nRed Wings and the Canucks) and seeing names like \"Bure\" \"Konstantinov\" and\\n\"Borshevshky\". Is this North America or isn't it? Toronto, Detriot, Quebec,\\nand Edmonton are particularly annoying, but the numbers of Euros on other\\nteams is getting worse as well. \\n\\n    I live in Vancouver and if I hear one more word about \"Pavel Bure, the\\nRussian Rocket\" I will completely throw up. As it is now, every time I see\\nthe Canucks play I keep hoping someone will cross-check Bure into the plexiglassso hard they have to carry him out on a stretcher. (By the way, I'm not a\\nCanucks fan to begin with ;-). \\n\\n    Okay, the stretcher remark was a little carried away. But the point is that\\nI resent NHL owners drafting all these Europeans INSTEAD of Canadians (and\\nsome Americans). It denies young Canadians the opportunity to play in THEIR\\nNORTH AMERICAN LEAGUE and instead gives it to Europeans, who aren't even\\nbetter hockey players. It's all hype. This \"European mystique\" is sickening,\\nbut until NHL owners get over it, Canadian and American players will continue\\nto have to fight harder to get drafted into their own league.\\n\\n    With the numbers of Euros in the NHL escalating, the problem is clearly\\nonly getting worse.\\n\\n    I'm all for the creation of a European Hockey League, and let the Bures\\nand Selannes of the world play on their own continent.\\n\\n    I just don't want them on mine.\\n\\n\\n \\n \\n-- \\nRichard J. Rauser       ...\n",
       "Name: 4931, dtype: object"
      ]
     },
     "execution_count": 42,
     "metadata": {},
     "output_type": "execute_result"
    }
   ],
   "source": [
    "X_train.iloc[4931]"
   ]
  },
  {
   "cell_type": "code",
   "execution_count": 43,
   "metadata": {},
   "outputs": [
    {
     "data": {
      "text/plain": [
       "0    Devorski unfortunately helped to taint an otherwise brilliant display\\nby MacLean.  The Canucks tied up the Jets so tightly that I thought that\\nthey were mailing them.\\n\\nBTW, Greg...next time, don't fall asleep in geography class, it's pretty\\nsad when a fellow in Norway can spell Winnipeg properly and a guy in\\nNorth America can't.\\n\\nOne more thing...how LONG has Vancouver been in the NHL?  How many\\nchampionships do they have?  \\n\\nOh yeah...and I CAN go to the Arena and see not one, not two, but\\n*six* championship banners hanging from the rafters.  3 Stanley Cup\\nbanners, and 3 Avco Cup banners.  My NHL guide says that Vancouver has\\nwon the Cup once (as many times as the rockin' town of Kenora has won it!)\n",
       "Name: 2, dtype: object"
      ]
     },
     "execution_count": 43,
     "metadata": {},
     "output_type": "execute_result"
    }
   ],
   "source": [
    "X_test.iloc[2]"
   ]
  },
  {
   "cell_type": "markdown",
   "metadata": {},
   "source": [
    "#### Notice both documents mention NHL. So, SVD Model was able to pick on the similarity.\n",
    "\n",
    "____"
   ]
  },
  {
   "cell_type": "code",
   "execution_count": null,
   "metadata": {},
   "outputs": [],
   "source": []
  }
 ],
 "metadata": {
  "kernelspec": {
   "display_name": "Python 3",
   "language": "python",
   "name": "python3"
  },
  "language_info": {
   "codemirror_mode": {
    "name": "ipython",
    "version": 3
   },
   "file_extension": ".py",
   "mimetype": "text/x-python",
   "name": "python",
   "nbconvert_exporter": "python",
   "pygments_lexer": "ipython3",
   "version": "3.7.6"
  }
 },
 "nbformat": 4,
 "nbformat_minor": 2
}
